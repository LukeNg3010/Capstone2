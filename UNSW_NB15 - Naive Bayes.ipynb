{
 "cells": [
  {
   "cell_type": "code",
   "execution_count": 1,
   "id": "fb8d712b",
   "metadata": {},
   "outputs": [],
   "source": [
    "import tensorflow as tf  # now import the tensorflow module\n",
    "import numpy as np\n",
    "import pandas as pd\n"
   ]
  },
  {
   "cell_type": "code",
   "execution_count": 2,
   "id": "db35c16b",
   "metadata": {},
   "outputs": [],
   "source": [
    "df_train = pd.read_csv('D:/Datasets/UNSW-NB15 Dataset/UNSW_NB15_training-set.csv')\n",
    "df_test = pd.read_csv('D:/Datasets/UNSW-NB15 Dataset/UNSW_NB15_testing-set.csv')  #insert data source location here"
   ]
  },
  {
   "cell_type": "code",
   "execution_count": 3,
   "id": "f26f8ac5",
   "metadata": {},
   "outputs": [
    {
     "data": {
      "text/plain": [
       "id                     int64\n",
       "dur                  float64\n",
       "proto                 object\n",
       "service               object\n",
       "state                 object\n",
       "spkts                  int64\n",
       "dpkts                  int64\n",
       "sbytes                 int64\n",
       "dbytes                 int64\n",
       "rate                 float64\n",
       "sttl                   int64\n",
       "dttl                   int64\n",
       "sload                float64\n",
       "dload                float64\n",
       "sloss                  int64\n",
       "dloss                  int64\n",
       "sinpkt               float64\n",
       "dinpkt               float64\n",
       "sjit                 float64\n",
       "djit                 float64\n",
       "swin                   int64\n",
       "stcpb                  int64\n",
       "dtcpb                  int64\n",
       "dwin                   int64\n",
       "tcprtt               float64\n",
       "synack               float64\n",
       "ackdat               float64\n",
       "smean                  int64\n",
       "dmean                  int64\n",
       "trans_depth            int64\n",
       "response_body_len      int64\n",
       "ct_srv_src             int64\n",
       "ct_state_ttl           int64\n",
       "ct_dst_ltm             int64\n",
       "ct_src_dport_ltm       int64\n",
       "ct_dst_sport_ltm       int64\n",
       "ct_dst_src_ltm         int64\n",
       "is_ftp_login           int64\n",
       "ct_ftp_cmd             int64\n",
       "ct_flw_http_mthd       int64\n",
       "ct_src_ltm             int64\n",
       "ct_srv_dst             int64\n",
       "is_sm_ips_ports        int64\n",
       "attack_cat            object\n",
       "label                  int64\n",
       "dtype: object"
      ]
     },
     "execution_count": 3,
     "metadata": {},
     "output_type": "execute_result"
    }
   ],
   "source": [
    "df_train.dtypes #checking data types "
   ]
  },
  {
   "cell_type": "code",
   "execution_count": 4,
   "id": "53f5a0a1",
   "metadata": {},
   "outputs": [],
   "source": [
    "df_train[\"proto\"] = df_train[\"proto\"].astype('category')\n",
    "df_train[\"service\"] = df_train[\"service\"].astype('category')\n",
    "df_train[\"state\"] = df_train[\"state\"].astype('category')\n",
    "\n",
    "df_test[\"proto\"] = df_test[\"proto\"].astype('category')\n",
    "df_test[\"service\"] = df_test[\"service\"].astype('category')\n",
    "df_test[\"state\"] = df_test[\"state\"].astype('category')\n"
   ]
  },
  {
   "cell_type": "code",
   "execution_count": 5,
   "id": "1f4d1302",
   "metadata": {},
   "outputs": [],
   "source": [
    "df_train[\"proto\"] = df_train[\"proto\"].cat.codes\n",
    "df_train[\"service\"] = df_train[\"service\"].cat.codes\n",
    "df_train[\"state\"] = df_train[\"state\"].cat.codes\n",
    "\n",
    "df_test[\"proto\"] = df_test[\"proto\"].cat.codes\n",
    "df_test[\"service\"] = df_test[\"service\"].cat.codes\n",
    "df_test[\"state\"] = df_test[\"state\"].cat.codes"
   ]
  },
  {
   "cell_type": "code",
   "execution_count": 6,
   "id": "26f97caa",
   "metadata": {},
   "outputs": [],
   "source": [
    "df_train = df_train.drop([\"id\", \"attack_cat\"], axis=1)\n",
    "df_test = df_test.drop([\"id\", \"attack_cat\"], axis=1)"
   ]
  },
  {
   "cell_type": "code",
   "execution_count": 7,
   "id": "ce673392",
   "metadata": {},
   "outputs": [],
   "source": [
    "X_train = df_train.drop('label',axis='columns')\n",
    "X_test = df_test.drop('label',axis='columns')\n",
    "\n",
    "Y_train = df_train.label\n",
    "Y_test = df_test.label"
   ]
  },
  {
   "cell_type": "code",
   "execution_count": 8,
   "id": "6c48c57f",
   "metadata": {},
   "outputs": [],
   "source": [
    "from sklearn.naive_bayes import GaussianNB\n",
    "model = GaussianNB()"
   ]
  },
  {
   "cell_type": "code",
   "execution_count": 9,
   "id": "4c0a7816",
   "metadata": {},
   "outputs": [
    {
     "data": {
      "text/plain": [
       "GaussianNB()"
      ]
     },
     "execution_count": 9,
     "metadata": {},
     "output_type": "execute_result"
    }
   ],
   "source": [
    "model.fit(X_train,Y_train)\n"
   ]
  },
  {
   "cell_type": "code",
   "execution_count": 10,
   "id": "bd4c258c",
   "metadata": {},
   "outputs": [
    {
     "name": "stdout",
     "output_type": "stream",
     "text": [
      "The accuracy of the Naive Bayes model is 0.7733901369331759\n"
     ]
    }
   ],
   "source": [
    "print(\"The accuracy of the Naive Bayes model is\", model.score(X_test,Y_test))\n"
   ]
  },
  {
   "cell_type": "code",
   "execution_count": 11,
   "id": "3285c91f",
   "metadata": {},
   "outputs": [
    {
     "data": {
      "text/html": [
       "<div>\n",
       "<style scoped>\n",
       "    .dataframe tbody tr th:only-of-type {\n",
       "        vertical-align: middle;\n",
       "    }\n",
       "\n",
       "    .dataframe tbody tr th {\n",
       "        vertical-align: top;\n",
       "    }\n",
       "\n",
       "    .dataframe thead th {\n",
       "        text-align: right;\n",
       "    }\n",
       "</style>\n",
       "<table border=\"1\" class=\"dataframe\">\n",
       "  <thead>\n",
       "    <tr style=\"text-align: right;\">\n",
       "      <th></th>\n",
       "      <th>dur</th>\n",
       "      <th>proto</th>\n",
       "      <th>service</th>\n",
       "      <th>state</th>\n",
       "      <th>spkts</th>\n",
       "      <th>dpkts</th>\n",
       "      <th>sbytes</th>\n",
       "      <th>dbytes</th>\n",
       "      <th>rate</th>\n",
       "      <th>sttl</th>\n",
       "      <th>...</th>\n",
       "      <th>ct_dst_ltm</th>\n",
       "      <th>ct_src_dport_ltm</th>\n",
       "      <th>ct_dst_sport_ltm</th>\n",
       "      <th>ct_dst_src_ltm</th>\n",
       "      <th>is_ftp_login</th>\n",
       "      <th>ct_ftp_cmd</th>\n",
       "      <th>ct_flw_http_mthd</th>\n",
       "      <th>ct_src_ltm</th>\n",
       "      <th>ct_srv_dst</th>\n",
       "      <th>is_sm_ips_ports</th>\n",
       "    </tr>\n",
       "  </thead>\n",
       "  <tbody>\n",
       "    <tr>\n",
       "      <th>0</th>\n",
       "      <td>0.121478</td>\n",
       "      <td>113</td>\n",
       "      <td>0</td>\n",
       "      <td>2</td>\n",
       "      <td>6</td>\n",
       "      <td>4</td>\n",
       "      <td>258</td>\n",
       "      <td>172</td>\n",
       "      <td>74.087490</td>\n",
       "      <td>252</td>\n",
       "      <td>...</td>\n",
       "      <td>1</td>\n",
       "      <td>1</td>\n",
       "      <td>1</td>\n",
       "      <td>1</td>\n",
       "      <td>0</td>\n",
       "      <td>0</td>\n",
       "      <td>0</td>\n",
       "      <td>1</td>\n",
       "      <td>1</td>\n",
       "      <td>0</td>\n",
       "    </tr>\n",
       "    <tr>\n",
       "      <th>1</th>\n",
       "      <td>0.649902</td>\n",
       "      <td>113</td>\n",
       "      <td>0</td>\n",
       "      <td>2</td>\n",
       "      <td>14</td>\n",
       "      <td>38</td>\n",
       "      <td>734</td>\n",
       "      <td>42014</td>\n",
       "      <td>78.473372</td>\n",
       "      <td>62</td>\n",
       "      <td>...</td>\n",
       "      <td>1</td>\n",
       "      <td>1</td>\n",
       "      <td>1</td>\n",
       "      <td>2</td>\n",
       "      <td>0</td>\n",
       "      <td>0</td>\n",
       "      <td>0</td>\n",
       "      <td>1</td>\n",
       "      <td>6</td>\n",
       "      <td>0</td>\n",
       "    </tr>\n",
       "    <tr>\n",
       "      <th>2</th>\n",
       "      <td>1.623129</td>\n",
       "      <td>113</td>\n",
       "      <td>0</td>\n",
       "      <td>2</td>\n",
       "      <td>8</td>\n",
       "      <td>16</td>\n",
       "      <td>364</td>\n",
       "      <td>13186</td>\n",
       "      <td>14.170161</td>\n",
       "      <td>62</td>\n",
       "      <td>...</td>\n",
       "      <td>2</td>\n",
       "      <td>1</td>\n",
       "      <td>1</td>\n",
       "      <td>3</td>\n",
       "      <td>0</td>\n",
       "      <td>0</td>\n",
       "      <td>0</td>\n",
       "      <td>2</td>\n",
       "      <td>6</td>\n",
       "      <td>0</td>\n",
       "    </tr>\n",
       "    <tr>\n",
       "      <th>3</th>\n",
       "      <td>1.681642</td>\n",
       "      <td>113</td>\n",
       "      <td>3</td>\n",
       "      <td>2</td>\n",
       "      <td>12</td>\n",
       "      <td>12</td>\n",
       "      <td>628</td>\n",
       "      <td>770</td>\n",
       "      <td>13.677108</td>\n",
       "      <td>62</td>\n",
       "      <td>...</td>\n",
       "      <td>2</td>\n",
       "      <td>1</td>\n",
       "      <td>1</td>\n",
       "      <td>3</td>\n",
       "      <td>1</td>\n",
       "      <td>1</td>\n",
       "      <td>0</td>\n",
       "      <td>2</td>\n",
       "      <td>1</td>\n",
       "      <td>0</td>\n",
       "    </tr>\n",
       "    <tr>\n",
       "      <th>4</th>\n",
       "      <td>0.449454</td>\n",
       "      <td>113</td>\n",
       "      <td>0</td>\n",
       "      <td>2</td>\n",
       "      <td>10</td>\n",
       "      <td>6</td>\n",
       "      <td>534</td>\n",
       "      <td>268</td>\n",
       "      <td>33.373826</td>\n",
       "      <td>254</td>\n",
       "      <td>...</td>\n",
       "      <td>2</td>\n",
       "      <td>2</td>\n",
       "      <td>1</td>\n",
       "      <td>40</td>\n",
       "      <td>0</td>\n",
       "      <td>0</td>\n",
       "      <td>0</td>\n",
       "      <td>2</td>\n",
       "      <td>39</td>\n",
       "      <td>0</td>\n",
       "    </tr>\n",
       "    <tr>\n",
       "      <th>5</th>\n",
       "      <td>0.380537</td>\n",
       "      <td>113</td>\n",
       "      <td>0</td>\n",
       "      <td>2</td>\n",
       "      <td>10</td>\n",
       "      <td>6</td>\n",
       "      <td>534</td>\n",
       "      <td>268</td>\n",
       "      <td>39.417980</td>\n",
       "      <td>254</td>\n",
       "      <td>...</td>\n",
       "      <td>2</td>\n",
       "      <td>2</td>\n",
       "      <td>1</td>\n",
       "      <td>40</td>\n",
       "      <td>0</td>\n",
       "      <td>0</td>\n",
       "      <td>0</td>\n",
       "      <td>2</td>\n",
       "      <td>39</td>\n",
       "      <td>0</td>\n",
       "    </tr>\n",
       "    <tr>\n",
       "      <th>6</th>\n",
       "      <td>0.637109</td>\n",
       "      <td>113</td>\n",
       "      <td>0</td>\n",
       "      <td>2</td>\n",
       "      <td>10</td>\n",
       "      <td>8</td>\n",
       "      <td>534</td>\n",
       "      <td>354</td>\n",
       "      <td>26.683033</td>\n",
       "      <td>254</td>\n",
       "      <td>...</td>\n",
       "      <td>1</td>\n",
       "      <td>1</td>\n",
       "      <td>1</td>\n",
       "      <td>40</td>\n",
       "      <td>0</td>\n",
       "      <td>0</td>\n",
       "      <td>0</td>\n",
       "      <td>1</td>\n",
       "      <td>39</td>\n",
       "      <td>0</td>\n",
       "    </tr>\n",
       "    <tr>\n",
       "      <th>7</th>\n",
       "      <td>0.521584</td>\n",
       "      <td>113</td>\n",
       "      <td>0</td>\n",
       "      <td>2</td>\n",
       "      <td>10</td>\n",
       "      <td>8</td>\n",
       "      <td>534</td>\n",
       "      <td>354</td>\n",
       "      <td>32.593026</td>\n",
       "      <td>254</td>\n",
       "      <td>...</td>\n",
       "      <td>3</td>\n",
       "      <td>3</td>\n",
       "      <td>1</td>\n",
       "      <td>40</td>\n",
       "      <td>0</td>\n",
       "      <td>0</td>\n",
       "      <td>0</td>\n",
       "      <td>3</td>\n",
       "      <td>39</td>\n",
       "      <td>0</td>\n",
       "    </tr>\n",
       "    <tr>\n",
       "      <th>8</th>\n",
       "      <td>0.542905</td>\n",
       "      <td>113</td>\n",
       "      <td>0</td>\n",
       "      <td>2</td>\n",
       "      <td>10</td>\n",
       "      <td>8</td>\n",
       "      <td>534</td>\n",
       "      <td>354</td>\n",
       "      <td>31.313031</td>\n",
       "      <td>254</td>\n",
       "      <td>...</td>\n",
       "      <td>3</td>\n",
       "      <td>3</td>\n",
       "      <td>1</td>\n",
       "      <td>40</td>\n",
       "      <td>0</td>\n",
       "      <td>0</td>\n",
       "      <td>0</td>\n",
       "      <td>3</td>\n",
       "      <td>39</td>\n",
       "      <td>0</td>\n",
       "    </tr>\n",
       "    <tr>\n",
       "      <th>9</th>\n",
       "      <td>0.258687</td>\n",
       "      <td>113</td>\n",
       "      <td>0</td>\n",
       "      <td>2</td>\n",
       "      <td>10</td>\n",
       "      <td>6</td>\n",
       "      <td>534</td>\n",
       "      <td>268</td>\n",
       "      <td>57.985135</td>\n",
       "      <td>254</td>\n",
       "      <td>...</td>\n",
       "      <td>3</td>\n",
       "      <td>3</td>\n",
       "      <td>1</td>\n",
       "      <td>40</td>\n",
       "      <td>0</td>\n",
       "      <td>0</td>\n",
       "      <td>0</td>\n",
       "      <td>3</td>\n",
       "      <td>39</td>\n",
       "      <td>0</td>\n",
       "    </tr>\n",
       "  </tbody>\n",
       "</table>\n",
       "<p>10 rows × 42 columns</p>\n",
       "</div>"
      ],
      "text/plain": [
       "        dur  proto  service  state  spkts  dpkts  sbytes  dbytes       rate  \\\n",
       "0  0.121478    113        0      2      6      4     258     172  74.087490   \n",
       "1  0.649902    113        0      2     14     38     734   42014  78.473372   \n",
       "2  1.623129    113        0      2      8     16     364   13186  14.170161   \n",
       "3  1.681642    113        3      2     12     12     628     770  13.677108   \n",
       "4  0.449454    113        0      2     10      6     534     268  33.373826   \n",
       "5  0.380537    113        0      2     10      6     534     268  39.417980   \n",
       "6  0.637109    113        0      2     10      8     534     354  26.683033   \n",
       "7  0.521584    113        0      2     10      8     534     354  32.593026   \n",
       "8  0.542905    113        0      2     10      8     534     354  31.313031   \n",
       "9  0.258687    113        0      2     10      6     534     268  57.985135   \n",
       "\n",
       "   sttl  ...  ct_dst_ltm  ct_src_dport_ltm  ct_dst_sport_ltm  ct_dst_src_ltm  \\\n",
       "0   252  ...           1                 1                 1               1   \n",
       "1    62  ...           1                 1                 1               2   \n",
       "2    62  ...           2                 1                 1               3   \n",
       "3    62  ...           2                 1                 1               3   \n",
       "4   254  ...           2                 2                 1              40   \n",
       "5   254  ...           2                 2                 1              40   \n",
       "6   254  ...           1                 1                 1              40   \n",
       "7   254  ...           3                 3                 1              40   \n",
       "8   254  ...           3                 3                 1              40   \n",
       "9   254  ...           3                 3                 1              40   \n",
       "\n",
       "   is_ftp_login  ct_ftp_cmd  ct_flw_http_mthd  ct_src_ltm  ct_srv_dst  \\\n",
       "0             0           0                 0           1           1   \n",
       "1             0           0                 0           1           6   \n",
       "2             0           0                 0           2           6   \n",
       "3             1           1                 0           2           1   \n",
       "4             0           0                 0           2          39   \n",
       "5             0           0                 0           2          39   \n",
       "6             0           0                 0           1          39   \n",
       "7             0           0                 0           3          39   \n",
       "8             0           0                 0           3          39   \n",
       "9             0           0                 0           3          39   \n",
       "\n",
       "   is_sm_ips_ports  \n",
       "0                0  \n",
       "1                0  \n",
       "2                0  \n",
       "3                0  \n",
       "4                0  \n",
       "5                0  \n",
       "6                0  \n",
       "7                0  \n",
       "8                0  \n",
       "9                0  \n",
       "\n",
       "[10 rows x 42 columns]"
      ]
     },
     "execution_count": 11,
     "metadata": {},
     "output_type": "execute_result"
    }
   ],
   "source": [
    "X_test[0:10]"
   ]
  },
  {
   "cell_type": "code",
   "execution_count": 12,
   "id": "0bf8affd",
   "metadata": {},
   "outputs": [
    {
     "data": {
      "text/plain": [
       "234    0\n",
       "235    0\n",
       "236    0\n",
       "237    0\n",
       "238    0\n",
       "239    0\n",
       "240    0\n",
       "241    0\n",
       "242    0\n",
       "243    0\n",
       "Name: label, dtype: int64"
      ]
     },
     "execution_count": 12,
     "metadata": {},
     "output_type": "execute_result"
    }
   ],
   "source": [
    "Y_test[234:244]"
   ]
  },
  {
   "cell_type": "code",
   "execution_count": 13,
   "id": "fff5e9a0",
   "metadata": {},
   "outputs": [
    {
     "data": {
      "text/plain": [
       "array([0, 0, 0, 0, 0, 1, 0, 0, 0, 0], dtype=int64)"
      ]
     },
     "execution_count": 13,
     "metadata": {},
     "output_type": "execute_result"
    }
   ],
   "source": [
    "model.predict(X_test[234:244])"
   ]
  },
  {
   "cell_type": "code",
   "execution_count": 14,
   "id": "f5a7a641",
   "metadata": {},
   "outputs": [
    {
     "data": {
      "text/plain": [
       "<sklearn.metrics._plot.confusion_matrix.ConfusionMatrixDisplay at 0x2578e8339a0>"
      ]
     },
     "execution_count": 14,
     "metadata": {},
     "output_type": "execute_result"
    },
    {
     "data": {
      "image/png": "[encoded data removed]",
      "text/plain": [
       "<Figure size 432x288 with 2 Axes>"
      ]
     },
     "metadata": {
      "needs_background": "light"
     },
     "output_type": "display_data"
    }
   ],
   "source": [
    "from sklearn.metrics import plot_confusion_matrix\n",
    "\n",
    "plot_confusion_matrix(model, X_test, Y_test)"
   ]
  },
  {
   "cell_type": "code",
   "execution_count": 15,
   "id": "460ad54d",
   "metadata": {},
   "outputs": [
    {
     "data": {
      "text/plain": [
       "175341"
      ]
     },
     "execution_count": 15,
     "metadata": {},
     "output_type": "execute_result"
    }
   ],
   "source": [
    "len(X_test)"
   ]
  },
  {
   "cell_type": "code",
   "execution_count": null,
   "id": "28d64a5f",
   "metadata": {},
   "outputs": [],
   "source": []
  }
 ],
 "metadata": {
  "kernelspec": {
   "display_name": "Python 3 (ipykernel)",
   "language": "python",
   "name": "python3"
  },
  "language_info": {
   "codemirror_mode": {
    "name": "ipython",
    "version": 3
   },
   "file_extension": ".py",
   "mimetype": "text/x-python",
   "name": "python",
   "nbconvert_exporter": "python",
   "pygments_lexer": "ipython3",
   "version": "3.9.5"
  }
 },
 "nbformat": 4,
 "nbformat_minor": 5
}
